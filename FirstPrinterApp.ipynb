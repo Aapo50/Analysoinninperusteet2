{
 "cells": [
  {
   "cell_type": "code",
   "execution_count": 19,
   "metadata": {},
   "outputs": [
    {
     "name": "stdout",
     "output_type": "stream",
     "text": [
      "Printer App\n",
      "This app is made by:  Aapo\n",
      "The value of the number1 is: 10.0\n",
      "The value of the number2 is: 8.0\n",
      "10.0 + 8.0 = 80.0\n",
      "1.25\n",
      "2.0\n"
     ]
    }
   ],
   "source": [
    "creator = \"Aapo\"\n",
    "number1 = 10.0\n",
    "number2 = 8.0\n",
    "multiplication = number1 * number2\n",
    "division = number1 / number2\n",
    "substraction = number1 - number2\n",
    "print(\"Printer App\")\n",
    "print(\"This app is made by: \", creator)\n",
    "#print(number1)\n",
    "print(\"The value of the number1 is:\", number1)\n",
    "print(\"The value of the number2 is:\", number2)\n",
    "print(number1, \"+\" ,number2, \"=\", multiplication)\n",
    "print(division)\n",
    "print(substraction)"
   ]
  }
 ],
 "metadata": {
  "kernelspec": {
   "display_name": "Python 3",
   "language": "python",
   "name": "python3"
  },
  "language_info": {
   "codemirror_mode": {
    "name": "ipython",
    "version": 3
   },
   "file_extension": ".py",
   "mimetype": "text/x-python",
   "name": "python",
   "nbconvert_exporter": "python",
   "pygments_lexer": "ipython3",
   "version": "3.12.0"
  }
 },
 "nbformat": 4,
 "nbformat_minor": 2
}
