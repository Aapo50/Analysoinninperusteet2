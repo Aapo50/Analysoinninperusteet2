{
 "cells": [
  {
   "cell_type": "code",
   "execution_count": 30,
   "metadata": {},
   "outputs": [
    {
     "name": "stdout",
     "output_type": "stream",
     "text": [
      "['sofa', 'chair', 'shelf', 'somethingelse']\n",
      "['sofa', 'chair']\n",
      "sofa\n"
     ]
    }
   ],
   "source": [
    "list=[\"sofa\", \"chair\", \"shelf\", \"somethingelse\"]\n",
    "print (list)\n",
    "first_two_items = list[:2]\n",
    "print(first_two_items)\n",
    "if \"sofa\" in list:\n",
    "    print(\"sofa\")"
   ]
  },
  {
   "cell_type": "code",
   "execution_count": 31,
   "metadata": {},
   "outputs": [
    {
     "name": "stdout",
     "output_type": "stream",
     "text": [
      "[43, 91, 74, 11, 15]\n",
      "234\n",
      "91\n"
     ]
    }
   ],
   "source": [
    "import random\n",
    "\n",
    "thrownDiceNumbers = []\n",
    "for _ in range(5):\n",
    "    randomnum = random.randint(1,100)\n",
    "    thrownDiceNumbers.append(randomnum)\n",
    "print(thrownDiceNumbers)\n",
    "total=sum(thrownDiceNumbers)\n",
    "print(total)\n",
    "highest=max(thrownDiceNumbers)\n",
    "print(highest)"
   ]
  }
 ],
 "metadata": {
  "kernelspec": {
   "display_name": "Python 3",
   "language": "python",
   "name": "python3"
  },
  "language_info": {
   "codemirror_mode": {
    "name": "ipython",
    "version": 3
   },
   "file_extension": ".py",
   "mimetype": "text/x-python",
   "name": "python",
   "nbconvert_exporter": "python",
   "pygments_lexer": "ipython3",
   "version": "3.12.0"
  }
 },
 "nbformat": 4,
 "nbformat_minor": 2
}
