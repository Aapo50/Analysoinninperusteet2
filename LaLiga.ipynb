{
 "cells": [
  {
   "cell_type": "code",
   "execution_count": 158,
   "metadata": {},
   "outputs": [],
   "source": [
    "import pandas as pd\n",
    "import numpy as np\n",
    "\n",
    "\n",
    "data = pd.read_csv('LaLiga_Matches.csv', delimiter=',', encoding='utf-8')\n",
    "\n",
    "\n",
    "#Deleting duplicates and all rows that contain a missing value\n",
    "data1 = data.dropna().drop_duplicates()"
   ]
  },
  {
   "cell_type": "code",
   "execution_count": 159,
   "metadata": {},
   "outputs": [
    {
     "name": "stdout",
     "output_type": "stream",
     "text": [
      "The median of full time home goals is:  1.0\n"
     ]
    }
   ],
   "source": [
    "median = np.median(data1['FTHG'])\n",
    "print(\"The median of full time home goals is: \", median)"
   ]
  },
  {
   "cell_type": "code",
   "execution_count": 160,
   "metadata": {},
   "outputs": [
    {
     "name": "stdout",
     "output_type": "stream",
     "text": [
      "The standard deviation of full time away goals is 1.1139185060998218\n"
     ]
    }
   ],
   "source": [
    "std_deviation = np.std(data1['FTAG'])\n",
    "\n",
    "print(\"The standard deviation of full time away goals is\", std_deviation)"
   ]
  },
  {
   "cell_type": "code",
   "execution_count": 161,
   "metadata": {},
   "outputs": [
    {
     "name": "stdout",
     "output_type": "stream",
     "text": [
      "The variance of half time away goals is 0.48963631515045486\n"
     ]
    }
   ],
   "source": [
    "variance = np.var(data1['HTAG'])\n",
    "print(\"The variance of half time away goals is\", variance)"
   ]
  },
  {
   "cell_type": "code",
   "execution_count": 169,
   "metadata": {},
   "outputs": [
    {
     "name": "stdout",
     "output_type": "stream",
     "text": [
      "Maximum FTHG for each season:\n",
      "Season\n",
      "1995-96       8\n",
      "1996-97       8\n",
      "1997-98       6\n",
      "1998-99       7\n",
      "1999-2000     6\n",
      "2000-01       7\n",
      "2001-02       7\n",
      "2002-03       6\n",
      "2003-04       7\n",
      "2004-05       6\n",
      "2005-06       5\n",
      "2006-07       5\n",
      "2007-08       7\n",
      "2008-09       7\n",
      "2009-10       6\n",
      "2010-11       8\n",
      "2011-12       8\n",
      "2012-13       6\n",
      "2013-14       7\n",
      "2014-15       9\n",
      "2015-16      10\n",
      "2016-17       7\n",
      "2017-18       7\n",
      "2018-19       8\n",
      "2019-20       6\n",
      "2020-21       6\n",
      "2021-22       6\n",
      "2022-23       6\n",
      "2023-24       5\n",
      "Name: FTHG, dtype: int64\n"
     ]
    }
   ],
   "source": [
    "max_FTHG_by_season = data1.groupby('Season')['FTHG'].max()\n",
    "\n",
    "print(\"Maximum FTHG for each season:\")\n",
    "print(max_FTHG_by_season)"
   ]
  },
  {
   "cell_type": "code",
   "execution_count": 172,
   "metadata": {},
   "outputs": [
    {
     "name": "stdout",
     "output_type": "stream",
     "text": [
      "The max value of full time home goals is 10\n"
     ]
    }
   ],
   "source": [
    "max_value = np.max(data1['FTHG'])\n",
    "print(\"The max value of full time home goals is\", max_value)"
   ]
  },
  {
   "cell_type": "code",
   "execution_count": 171,
   "metadata": {},
   "outputs": [
    {
     "name": "stdout",
     "output_type": "stream",
     "text": [
      "Maximum FTAG for each season:\n",
      "Season\n",
      "1995-96      8\n",
      "1996-97      5\n",
      "1997-98      6\n",
      "1998-99      5\n",
      "1999-2000    5\n",
      "2000-01      6\n",
      "2001-02      6\n",
      "2002-03      5\n",
      "2003-04      6\n",
      "2004-05      6\n",
      "2005-06      4\n",
      "2006-07      6\n",
      "2007-08      5\n",
      "2008-09      6\n",
      "2009-10      5\n",
      "2010-11      8\n",
      "2011-12      7\n",
      "2012-13      5\n",
      "2013-14      5\n",
      "2014-15      8\n",
      "2015-16      8\n",
      "2016-17      6\n",
      "2017-18      6\n",
      "2018-19      6\n",
      "2019-20      5\n",
      "2020-21      6\n",
      "2021-22      6\n",
      "2022-23      5\n",
      "2023-24      7\n",
      "Name: FTAG, dtype: int64\n"
     ]
    }
   ],
   "source": [
    "max_FTAG_by_season = data1.groupby('Season')['FTAG'].max()\n",
    "\n",
    "print(\"Maximum FTAG for each season:\")\n",
    "print(max_FTAG_by_season)"
   ]
  },
  {
   "cell_type": "code",
   "execution_count": 163,
   "metadata": {},
   "outputs": [
    {
     "name": "stdout",
     "output_type": "stream",
     "text": [
      "The max value of full time away goals is 8\n"
     ]
    }
   ],
   "source": [
    "max_value = np.max(data1['FTAG'])\n",
    "print(\"The max value of full time away goals is\", max_value)"
   ]
  },
  {
   "cell_type": "code",
   "execution_count": 164,
   "metadata": {},
   "outputs": [
    {
     "name": "stdout",
     "output_type": "stream",
     "text": [
      "The min value of full time home goals is 0\n"
     ]
    }
   ],
   "source": [
    "min_value = np.min(data1['FTHG'])\n",
    "print(\"The min value of full time home goals is\", min_value)"
   ]
  },
  {
   "cell_type": "code",
   "execution_count": 165,
   "metadata": {},
   "outputs": [
    {
     "name": "stdout",
     "output_type": "stream",
     "text": [
      "The min value of full time away goals is 0\n"
     ]
    }
   ],
   "source": [
    "min_value = np.min(data1['FTAG'])\n",
    "print(\"The min value of full time away goals is\", min_value)"
   ]
  },
  {
   "cell_type": "code",
   "execution_count": 166,
   "metadata": {},
   "outputs": [
    {
     "name": "stdout",
     "output_type": "stream",
     "text": [
      "The sum of FTHG is 16904\n"
     ]
    }
   ],
   "source": [
    "sum_home_full_time_goals = np.sum(data1['FTHG'])\n",
    "print(\"The sum of FTHG is\", sum_home_full_time_goals)"
   ]
  },
  {
   "cell_type": "code",
   "execution_count": 173,
   "metadata": {},
   "outputs": [
    {
     "name": "stdout",
     "output_type": "stream",
     "text": [
      "The sum of FTAG is 12153\n"
     ]
    }
   ],
   "source": [
    "sum_away_full_time_goals = np.sum(data1['FTAG'])\n",
    "print(\"The sum of FTAG is\", sum_away_full_time_goals)"
   ]
  }
 ],
 "metadata": {
  "kernelspec": {
   "display_name": "Python 3",
   "language": "python",
   "name": "python3"
  },
  "language_info": {
   "codemirror_mode": {
    "name": "ipython",
    "version": 3
   },
   "file_extension": ".py",
   "mimetype": "text/x-python",
   "name": "python",
   "nbconvert_exporter": "python",
   "pygments_lexer": "ipython3",
   "version": "3.12.0"
  }
 },
 "nbformat": 4,
 "nbformat_minor": 2
}
