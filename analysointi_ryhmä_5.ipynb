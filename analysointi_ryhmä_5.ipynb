{
  "nbformat": 4,
  "nbformat_minor": 0,
  "metadata": {
    "colab": {
      "provenance": []
    },
    "kernelspec": {
      "name": "python3",
      "display_name": "Python 3"
    },
    "language_info": {
      "name": "python"
    }
  },
  "cells": [
    {
      "cell_type": "code",
      "execution_count": null,
      "metadata": {
        "id": "bS2YjV0AAxn1"
      },
      "outputs": [],
      "source": [
        "import pandas as pd\n",
        "import numpy as np\n",
        "import matplotlib as plot\n",
        "import matplotlib.pyplot as plt\n",
        "\n",
        "data = pd.read_csv('LaLiga_Matches.csv', delimiter=',', encoding='utf-8')\n",
        "\n",
        "\n",
        "#Deleting duplicates and all rows that contain a missing value\n",
        "\n",
        "data1 = data.dropna()\n",
        "data1.drop_duplicates()\n",
        "\n",
        "data.info\n",
        "\n",
        "\n",
        "# The data does not have continuous numeric data but we can sort HTGH (Home Team Halftime Goals) to bins for categorization.\n",
        "# After sorting we can form a graph using matplotlib to visualize the outcome for analyzation.\n",
        "# You could argue that the results are poinless but this is just to show that we are able to utilize bins and labels to categorize our data if necessary.\n",
        "\n",
        "bins = [0,1,2,3,4,5]\n",
        "labels = [ \"Nil to one\", \"One to two\",\"Two to Three\",\"Three to four\" ,\"Four to five\"]\n",
        "\n",
        "\n",
        "data['HTHG Categories'] = pd.cut(data[\"HTHG\"],bins, labels = labels)\n",
        "\n",
        "\n",
        "\n",
        "data['HTHG Categories'].value_counts().plot(kind=\"barh\")"
      ]
    },
    {
      "cell_type": "code",
      "source": [
        "# Identify any outliers within your dataset. If the dataset does not include any outlier, you can randomly mess up some portion of your data.\n",
        "\n",
        "#Here we have tried to detect some outliers from column \"All Goals\" which we have created to sum up all the goals made in a match.\n",
        "#It seems that we have found some outliers and the plots created will show these outliers as dots in the boxplot.\n",
        "\n",
        "goalList=[\"FTHG\", \"FTAG\"]\n",
        "\n",
        "data[\"All Goals\"] = data[goalList].sum(axis=1)\n",
        "\n",
        "data.boxplot(column=\"All Goals\")\n",
        "\n",
        "\n",
        "plt.show()\n",
        "data[\"All Goals\"].value_counts().plot(kind=\"barh\")\n",
        "\n",
        "\n",
        "#The outliers in goal ammount are not removed or altered since they are correct and they will not corrupt or denormalize the data in question.\n",
        "#No impossible outcome in goal ammounts is found.\n",
        "#These outliers simply reside outside the whiskers shown in the boxplot.\n"
      ],
      "metadata": {
        "id": "-3uAwwdr-mCm"
      },
      "execution_count": null,
      "outputs": []
    },
    {
      "cell_type": "markdown",
      "source": [
        "Miks toi meni ihan solmuu"
      ],
      "metadata": {
        "id": "q8H7aM3GyBur"
      }
    },
    {
      "cell_type": "markdown",
      "source": [
        "Data Objects & Attribute Types + Mean   / Kalle"
      ],
      "metadata": {
        "id": "lMig01LQkF5d"
      }
    },
    {
      "cell_type": "code",
      "source": [
        "# Nominal Attributes\n",
        "columns_to_print = ['Season', 'HomeTeam', 'AwayTeam', 'FTR', 'HTR']\n",
        "\n",
        "# Showing the first 5 rows of data using only nominal attributes.\n",
        "data1[columns_to_print].head(5)\n",
        "\n",
        "# All of the attributes represent categories without inherent order."
      ],
      "metadata": {
        "id": "jHQBCZYjjxfp"
      },
      "execution_count": null,
      "outputs": []
    },
    {
      "cell_type": "code",
      "source": [
        "# Numeric Attributes\n",
        "\n",
        "columns_to_print = ['FTHG', 'FTAG', 'HTHG', 'HTAG']\n",
        "\n",
        "# Showing the first 5 rows of data using only numeric attributes.\n",
        "data1[columns_to_print].head(5)\n",
        "\n",
        "# All the mathematical operations are applicable on these attributes."
      ],
      "metadata": {
        "id": "D5056WD3j8q_"
      },
      "execution_count": null,
      "outputs": []
    },
    {
      "cell_type": "code",
      "source": [
        "# Mean\n",
        "\n",
        "# FTHG and FTAG combined (full time goals)\n",
        "ftg = data1['FTHG'] + data1['FTAG']\n",
        "\n",
        "# Calculating the mean of all full time goals\n",
        "mean_ftg = np.mean(ftg)\n",
        "print('The mean of full time goals', mean_ftg)"
      ],
      "metadata": {
        "id": "sDF41YPJj_4w"
      },
      "execution_count": null,
      "outputs": []
    },
    {
      "cell_type": "code",
      "source": [
        "# Binary Attributes\n",
        "\n",
        "# Adding an extra column for all full time goals combined\n",
        "data1['FTG'] = ftg\n",
        "\n",
        "# Since there are no binary attributes in the current dataset..\n",
        "# I decided to add an extra column to showcase what a binary attribute could look like\n",
        "# 'FTGAM' stands for 'Full Time Goals Above the Mean' and it can have 'True' or 'False' as a value\n",
        "data1['FTGAM'] = np.where(ftg > mean_ftg, True, False)\n",
        "\n",
        "columns_to_print = ['FTG', 'FTGAM']\n",
        "data1[columns_to_print].head(10)"
      ],
      "metadata": {
        "id": "-lgxl4pOUN8j"
      },
      "execution_count": null,
      "outputs": []
    },
    {
      "cell_type": "code",
      "source": [
        "# Ordinal Attributes\n",
        "\n",
        "# Since there are no good examples of ordinal attributes in our current dataset,\n",
        "# I decided to add imaginary 'MatchTier' column that can have three different tiers ('A', 'B' or 'C').\n",
        "# The tiers are determined by the number of goals scored in a specific match.\n",
        "conditions = [\n",
        "    (data1['FTG'] <= 2),\n",
        "    (data1['FTG'] == 3),\n",
        "    (data1['FTG'] >= 4)\n",
        "]\n",
        "\n",
        "values = ['C', 'B', 'A']\n",
        "\n",
        "data1['MatchTier'] = np.select(conditions, values)\n",
        "\n",
        "columns_to_print = ['FTG', 'MatchTier']\n",
        "data1[columns_to_print].head(5)\n",
        "\n",
        "# This is just to show what an ordinal attribute could look like in the context of this dataset"
      ],
      "metadata": {
        "id": "_MKoxqtLUQmu"
      },
      "execution_count": null,
      "outputs": []
    },
    {
      "cell_type": "markdown",
      "source": [
        "Tossa on nyt mun koodinpätkät t.Aapo,\n",
        "eli Basic Statistics kohdasta\n",
        "2-6"
      ],
      "metadata": {
        "id": "Wb_4haOK1AUd"
      }
    },
    {
      "cell_type": "code",
      "source": [
        "median = np.median(data1['FTHG'])\n",
        "print(\"The median of full time home goals is: \", median)"
      ],
      "metadata": {
        "id": "ezBMDFRxyEfh"
      },
      "execution_count": null,
      "outputs": []
    },
    {
      "cell_type": "code",
      "source": [
        "std_deviation = np.std(data1['FTAG'])\n",
        "\n",
        "print(\"The standard deviation of full time away goals is\", std_deviation)"
      ],
      "metadata": {
        "id": "v5HKLuEMyIs7"
      },
      "execution_count": null,
      "outputs": []
    },
    {
      "cell_type": "code",
      "source": [
        "variance = np.var(data1['HTAG'])\n",
        "print(\"The variance of half time away goals is\", variance)"
      ],
      "metadata": {
        "id": "-6BuIXyByLDq"
      },
      "execution_count": null,
      "outputs": []
    },
    {
      "cell_type": "code",
      "source": [
        "max_FTHG_by_season = data1.groupby('Season')['FTHG'].max()\n",
        "\n",
        "print(\"Maximum FTHG for each season:\")\n",
        "print(max_FTHG_by_season)"
      ],
      "metadata": {
        "id": "XsmwresHyNeg"
      },
      "execution_count": null,
      "outputs": []
    },
    {
      "cell_type": "code",
      "source": [
        "max_FTAG_by_season = data1.groupby('Season')['FTAG'].max()\n",
        "\n",
        "print(\"Maximum FTAG for each season:\")\n",
        "print(max_FTAG_by_season)"
      ],
      "metadata": {
        "id": "IlByH-sgyXQj"
      },
      "execution_count": null,
      "outputs": []
    },
    {
      "cell_type": "code",
      "source": [
        "max_value = np.max(data1['FTHG'])\n",
        "print(\"The max value of full time home goals is\", max_value)"
      ],
      "metadata": {
        "id": "P4E3LKQ_00mg"
      },
      "execution_count": null,
      "outputs": []
    },
    {
      "cell_type": "code",
      "source": [
        "max_value = np.max(data1['FTAG'])\n",
        "print(\"The max value of full time away goals is\", max_value)"
      ],
      "metadata": {
        "id": "M27d7lb5ybNT"
      },
      "execution_count": null,
      "outputs": []
    },
    {
      "cell_type": "code",
      "source": [
        "desired_season = '2016-17'\n",
        "\n",
        "max_FTHG_for_season = data1[data1['Season'] == desired_season]['FTHG'].max()\n",
        "\n",
        "print(\"max FTHG for desired season:\", max_FTHG_for_season)"
      ],
      "metadata": {
        "id": "I2ojBaHz0upV"
      },
      "execution_count": null,
      "outputs": []
    },
    {
      "cell_type": "code",
      "source": [
        "min_value = np.min(data1['FTHG'])\n",
        "print(\"The min value of full time home goals is\", min_value)"
      ],
      "metadata": {
        "id": "LXdUHiNlymMV"
      },
      "execution_count": null,
      "outputs": []
    },
    {
      "cell_type": "code",
      "source": [
        "min_value = np.min(data1['FTAG'])\n",
        "print(\"The min value of full time away goals is\", min_value)"
      ],
      "metadata": {
        "id": "zeD8JV1gyoe2"
      },
      "execution_count": null,
      "outputs": []
    },
    {
      "cell_type": "code",
      "source": [
        "sum_home_full_time_goals = np.sum(data1['FTHG'])\n",
        "print(\"The sum of FTHG is\", sum_home_full_time_goals)"
      ],
      "metadata": {
        "id": "iqHL2MmQ03FM"
      },
      "execution_count": null,
      "outputs": []
    },
    {
      "cell_type": "code",
      "source": [
        "sum_away_full_time_goals = np.sum(data1['FTAG'])\n",
        "print(\"The sum of FTAG is\", sum_away_full_time_goals)"
      ],
      "metadata": {
        "id": "AnMrfKpt07nI"
      },
      "execution_count": null,
      "outputs": []
    },
    {
      "cell_type": "code",
      "source": [
        "desired_season1 = '2013-14'\n",
        "filtered_data = data1[data1['Season'] == desired_season1]\n",
        "print(filtered_data)\n",
        "product_result = filtered_data['FTHG'].prod()\n",
        "print(\"Product:\", product_result)"
      ],
      "metadata": {
        "id": "eFHQzVkCE-NP"
      },
      "execution_count": null,
      "outputs": []
    },
    {
      "cell_type": "markdown",
      "source": [
        "Product on nolla, koska joku FTHG arvoista on kyseisellä kaudella nolla. Eli joukkue ei ole tehnyt yhtään maalia ja kun muut arvot kerrotaan nollalla on tulo nolla."
      ],
      "metadata": {
        "id": "E5-UBRw0FAmO"
      }
    },
    {
      "cell_type": "markdown",
      "source": [
        "Tuomaksen koodit visualisoinnista:\n",
        "1. Line Plot\n",
        "2. Scatter Plot\n",
        "3. Bar Chart\n",
        "4. Histogram"
      ],
      "metadata": {
        "id": "XTdt9C0jC690"
      }
    },
    {
      "cell_type": "code",
      "source": [
        "#LINE CHART\n",
        "\n",
        "import pandas as pd\n",
        "import matplotlib.pyplot as plt\n",
        "\n",
        "data = pd.read_csv('LaLiga_Matches.csv', delimiter=',', encoding='utf-8')\n",
        "data['Date'] = pd.to_datetime(data['Date'], format='%d-%m-%Y')\n",
        "\n",
        "filtered_data = data[data['Date'].dt.year == 2010]\n",
        "\n",
        "ottelut_kuukausittain = filtered_data.resample('M', on='Date').size()\n",
        "\n",
        "plt.figure(figsize=(10, 6))\n",
        "ottelut_kuukausittain.plot(marker='o', linestyle='-', color='b')\n",
        "plt.title('La Liga - Ottelumäärä kuukausittain (Vuosi 2010) | Line Chart')\n",
        "plt.xlabel('Kuukausi')\n",
        "plt.ylabel('Ottelumäärä')\n",
        "plt.grid(True)\n",
        "plt.show()"
      ],
      "metadata": {
        "id": "W-1Tdpe2HOKi"
      },
      "execution_count": null,
      "outputs": []
    },
    {
      "cell_type": "code",
      "source": [
        "#SCATTER PLOT\n",
        "\n",
        "import pandas as pd\n",
        "import matplotlib.pyplot as plt\n",
        "\n",
        "data = pd.read_csv('LaLiga_Matches.csv', delimiter=',', encoding='utf-8')\n",
        "data['Date'] = pd.to_datetime(data['Date'], format='%d-%m-%Y')\n",
        "\n",
        "barcelona_data = data[(data['HomeTeam'] == 'Barcelona') | (data['AwayTeam'] == 'Barcelona')]\n",
        "barcelona_data = barcelona_data[(barcelona_data['Date'].dt.year == 2005) & (barcelona_data['Date'].dt.month <= 3)]\n",
        "\n",
        "plt.figure(figsize=(10, 6))\n",
        "plt.scatter(barcelona_data['Date'], barcelona_data['FTHG'], label='Kotiottelut', alpha=0.7)\n",
        "plt.scatter(barcelona_data['Date'], barcelona_data['FTAG'], label='Vierasottelut', alpha=0.7)\n",
        "plt.title('Barcelona: Koti- ja vierasotteluiden maalit tammi-maaliskuussa 2005 | Scatter Plot')\n",
        "plt.xlabel('Päivämäärä')\n",
        "plt.ylabel('Maalien määrä')\n",
        "plt.legend()\n",
        "plt.grid(True)\n",
        "plt.show()"
      ],
      "metadata": {
        "id": "Ee06opQH7TaB"
      },
      "execution_count": null,
      "outputs": []
    },
    {
      "cell_type": "code",
      "source": [
        "#BAR CHART\n",
        "\n",
        "import pandas as pd\n",
        "import numpy as np\n",
        "import matplotlib.pyplot as plt\n",
        "\n",
        "data = pd.read_csv('LaLiga_Matches.csv', delimiter=',', encoding='utf-8')\n",
        "data['Date'] = pd.to_datetime(data['Date'], format='%d-%m-%Y')\n",
        "\n",
        "filtered_data = data[(data['Date'].dt.year == 2008) & (data['Date'].dt.month.isin([4, 5]))]\n",
        "\n",
        "plt.figure(figsize=(10, 6))\n",
        "plt.bar(filtered_data['Date'], filtered_data['FTHG'], color='blue')\n",
        "plt.title('La Liga - Kotijoukkueiden maalit huhti-toukokuussa (Vuosi 2008) | Bar Chart')\n",
        "plt.xlabel('Päivämäärä')\n",
        "plt.ylabel('Maalien määrä')\n",
        "plt.xticks(rotation=45)\n",
        "plt.grid(True)\n",
        "plt.show()"
      ],
      "metadata": {
        "id": "p3FLlWypHP0A"
      },
      "execution_count": null,
      "outputs": []
    },
    {
      "cell_type": "code",
      "source": [
        "#HISTOGRAM\n",
        "\n",
        "import pandas as pd\n",
        "import matplotlib.pyplot as plt\n",
        "\n",
        "data = pd.read_csv('LaLiga_Matches.csv', delimiter=',', encoding='utf-8')\n",
        "data['Date'] = pd.to_datetime(data['Date'], format='%d-%m-%Y')\n",
        "\n",
        "valencia_wins = data[(data['HomeTeam'] == 'Valencia') & (data['FTR'] == 'H') | (data['AwayTeam'] == 'Valencia') & (data['FTR'] == 'A')]\n",
        "\n",
        "plt.figure(figsize=(10, 6))\n",
        "plt.hist(valencia_wins['Date'], bins=15, color='orange', edgecolor='black')\n",
        "plt.title('Valencian voitot La Ligassa | Histogram')\n",
        "plt.xlabel('Päivämäärä')\n",
        "plt.ylabel('Voittojen määrä')\n",
        "plt.show()"
      ],
      "metadata": {
        "id": "SGAWinrh5B7X"
      },
      "execution_count": null,
      "outputs": []
    },
    {
      "cell_type": "markdown",
      "source": [
        "Samuelin koodit"
      ],
      "metadata": {
        "id": "C7C2JMfeJmi6"
      }
    },
    {
      "cell_type": "markdown",
      "source": [
        "Pie Chart"
      ],
      "metadata": {
        "id": "JIg-n_1cYVxL"
      }
    },
    {
      "cell_type": "code",
      "source": [
        "import pandas as pd\n",
        "import matplotlib.pyplot as plt\n",
        "\n",
        "\n",
        "data = pd.read_csv('LaLiga_Matches.csv', delimiter=',', encoding='utf-8')\n",
        "data['Date'] = pd.to_datetime(data['Date'], format='%d-%m-%Y')\n",
        "\n",
        "\n",
        "barcelona_wins = data[(data['HomeTeam'] == 'Barcelona') & (data['FTR'] == 'H') | (data['AwayTeam'] == 'Barcelona') & (data['FTR'] == 'A')]\n",
        "\n",
        "\n",
        "result_counts = barcelona_wins['FTR'].value_counts()\n",
        "\n",
        "\n",
        "plt.figure(figsize=(8, 8))\n",
        "plt.pie(result_counts, labels=result_counts.index, autopct='%1.1f%%', colors=['lightcoral', 'lightskyblue', 'lightgreen'])\n",
        "plt.title('Barcelonan voitot La Ligassa | Pie Chart')\n",
        "plt.show()\n"
      ],
      "metadata": {
        "id": "CdQPvSlxagzG"
      },
      "execution_count": null,
      "outputs": []
    },
    {
      "cell_type": "markdown",
      "source": [
        "HeatMap"
      ],
      "metadata": {
        "id": "kuCm9NHzZApj"
      }
    },
    {
      "cell_type": "code",
      "source": [
        "import pandas as pd\n",
        "import matplotlib.pyplot as plt\n",
        "import numpy as np\n",
        "\n",
        "data = pd.read_csv('LaLiga_Matches.csv', delimiter=',', encoding='utf-8')\n",
        "data['Date'] = pd.to_datetime(data['Date'], format='%d-%m-%Y')\n",
        "\n",
        "filtered_data = data[data['Date'].dt.year == 2000]\n",
        "\n",
        "\n",
        "ottelut_kuukausittain = filtered_data.resample('M', on='Date').size()\n",
        "\n",
        "\n",
        "fig, ax = plt.subplots(figsize=(10, 6))\n",
        "heatmap = ax.imshow([ottelut_kuukausittain.values], cmap='viridis', aspect='auto', extent=[0, 12, 0, 1])\n",
        "\n",
        "\n",
        "ax.set_title('La Liga - Ottelumäärä kuukausittain (Vuosi 2000) | Heatmap')\n",
        "ax.set_xlabel('Kuukausi')\n",
        "ax.set_yticks([0.5])\n",
        "ax.set_yticklabels(['Ottelumäärä'])\n",
        "\n",
        "\n",
        "cbar = plt.colorbar(heatmap, orientation='horizontal')\n",
        "cbar.set_label('Ottelumäärä')\n",
        "\n",
        "plt.show()\n"
      ],
      "metadata": {
        "id": "BeHdJ8QAaZxF"
      },
      "execution_count": null,
      "outputs": []
    },
    {
      "cell_type": "markdown",
      "source": [
        "3D Plot"
      ],
      "metadata": {
        "id": "XIJKDh0oalGS"
      }
    },
    {
      "cell_type": "code",
      "source": [
        "import pandas as pd\n",
        "import matplotlib.pyplot as plt\n",
        "from mpl_toolkits.mplot3d import Axes3D\n",
        "import numpy as np\n",
        "\n",
        "# Load data and process the date field\n",
        "data = pd.read_csv('LaLiga_Matches.csv', delimiter=',', encoding='utf-8')\n",
        "data['Date'] = pd.to_datetime(data['Date'], format='%d-%m-%Y')\n",
        "\n",
        "# Filter necessary data (Barcelona wins)\n",
        "barcelona_wins = data[(data['HomeTeam'] == 'Barcelona') & (data['FTR'] == 'H') | (data['AwayTeam'] == 'Barcelona') & (data['FTR'] == 'A')]\n",
        "\n",
        "# Create a 3D-like subplot\n",
        "fig = plt.figure(figsize=(10, 6))\n",
        "ax = fig.add_subplot(111, projection='3d')\n",
        "\n",
        "# Plot the 3D-like histogram\n",
        "hist, xedges, yedges = np.histogram2d(barcelona_wins['Date'].dt.month, barcelona_wins['Date'].dt.year, bins=(15, 15))\n",
        "xpos, ypos = np.meshgrid(xedges[:-1] + 0.5, yedges[:-1] + 0.5, indexing=\"ij\")\n",
        "\n",
        "xpos = xpos.flatten()\n",
        "ypos = ypos.flatten()\n",
        "zpos = np.zeros_like(xpos)\n",
        "\n",
        "dx = dy = 0.8  # Adjust the width and height of the bars\n",
        "\n",
        "dz = hist.flatten()\n",
        "\n",
        "# Create a colormap based on the number of wins\n",
        "colors = plt.cm.viridis(dz / dz.max())\n",
        "\n",
        "ax.bar3d(xpos, ypos, zpos, dx, dy, dz, color=colors, edgecolor='black')\n",
        "\n",
        "# Title\n",
        "ax.set_title('Barcelona voitot La Ligassa | 3D-like Histogram')\n",
        "ax.set_xlabel('Kuukausi')\n",
        "ax.set_ylabel('Vuosi')\n",
        "ax.set_zlabel('Voittojen määrä')\n",
        "\n",
        "\n",
        "plt.show()\n"
      ],
      "metadata": {
        "id": "khmRC1yTaoyE"
      },
      "execution_count": null,
      "outputs": []
    }
  ]
}