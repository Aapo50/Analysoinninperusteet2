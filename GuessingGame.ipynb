{
 "cells": [
  {
   "cell_type": "code",
   "execution_count": 13,
   "metadata": {},
   "outputs": [
    {
     "name": "stdout",
     "output_type": "stream",
     "text": [
      "Congratulations\n",
      "You guessed it in 1\n"
     ]
    }
   ],
   "source": [
    "myName = \"Jaakko\"\n",
    "guesses = 0\n",
    "\n",
    "while True:\n",
    "    name = input(\"Guess my name\")\n",
    "    guesses += 1\n",
    "    if myName==name:\n",
    "        print(\"Congratulations\")\n",
    "        print(f\"You guessed it in {guesses}\")\n",
    "        break\n",
    "    else:\n",
    "        print(\"Try again\")\n",
    "        vastaus = input(\"Do you want to quit (y/n)\")\n",
    "        if vastaus == (\"y\"):\n",
    "            break\n"
   ]
  }
 ],
 "metadata": {
  "kernelspec": {
   "display_name": "Python 3",
   "language": "python",
   "name": "python3"
  },
  "language_info": {
   "codemirror_mode": {
    "name": "ipython",
    "version": 3
   },
   "file_extension": ".py",
   "mimetype": "text/x-python",
   "name": "python",
   "nbconvert_exporter": "python",
   "pygments_lexer": "ipython3",
   "version": "3.12.0"
  }
 },
 "nbformat": 4,
 "nbformat_minor": 2
}
