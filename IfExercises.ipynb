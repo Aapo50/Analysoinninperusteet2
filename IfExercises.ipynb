{
 "cells": [
  {
   "cell_type": "code",
   "execution_count": 7,
   "metadata": {},
   "outputs": [
    {
     "name": "stdout",
     "output_type": "stream",
     "text": [
      "Number1 is not equal to number2\n"
     ]
    }
   ],
   "source": [
    "number1 = 10\n",
    "number2 = 9\n",
    "#if number1 == number2:\n",
    "    #print (\"Numbers are equal\")\n",
    "#else:\n",
    "    #print (\"Numbers are not equal\")\n",
    "#if number1>number2:\n",
    "    #print (\"Number1 is greater than number2\")\n",
    "#else:\n",
    "    #print (\"Number1 is not greater than number2\")\n",
    "#if number1>=number2:\n",
    "    #print (\"number1 is greater or equal to number2\")\n",
    "#if number1 != number2:\n",
    "    #print (\"Number1 is not equal to number2\")"
   ]
  },
  {
   "cell_type": "code",
   "execution_count": 40,
   "metadata": {},
   "outputs": [
    {
     "name": "stdout",
     "output_type": "stream",
     "text": [
      "Numbers are equal\n"
     ]
    }
   ],
   "source": [
    "number1 = 1111\n",
    "number2 = 111\n",
    "number3 = 1111\n",
    "\n",
    "#if number1 == number2 == number3:\n",
    "    #print(\"Numbers are equal\")\n",
    "#if number1 == number2 or number2 == number3:\n",
    "    #print(\"numbers are equal\")\n",
    "# if number1>number2 and number1>number3:\n",
    "#     print(\"number1 is greater than 2 and 3\")\n",
    "# if number1>number2:\n",
    "#     print(\"number1 is greater than number2\")\n",
    "# elif number1>number3:\n",
    "#     print(\"number1 is greater than number3\")\n",
    "# if number1 == number2:\n",
    "#     print(\"Numbers are equal1\")\n",
    "# elif number1 == number3:\n",
    "#     print(\"Numbers are equal\")"
   ]
  },
  {
   "cell_type": "code",
   "execution_count": 46,
   "metadata": {},
   "outputs": [
    {
     "name": "stdout",
     "output_type": "stream",
     "text": [
      "Names1 and names3 are equal\n"
     ]
    }
   ],
   "source": [
    "name1 = \"aapo\"\n",
    "name2 = \"joku\"\n",
    "name3 = \"aapo\"\n",
    "\n",
    "# if name1 == name2:\n",
    "#     print(\"Names are equal\")\n",
    "# if name1 != name2:\n",
    "#     print(\"Names are not equal\")\n",
    "# if name1 == name2:\n",
    "#     print(\"Names are equal\")\n",
    "# elif name1 == name3:\n",
    "#     print(\"Names1 and names3 are equal\")"
   ]
  }
 ],
 "metadata": {
  "kernelspec": {
   "display_name": "Python 3",
   "language": "python",
   "name": "python3"
  },
  "language_info": {
   "codemirror_mode": {
    "name": "ipython",
    "version": 3
   },
   "file_extension": ".py",
   "mimetype": "text/x-python",
   "name": "python",
   "nbconvert_exporter": "python",
   "pygments_lexer": "ipython3",
   "version": "3.12.0"
  }
 },
 "nbformat": 4,
 "nbformat_minor": 2
}
